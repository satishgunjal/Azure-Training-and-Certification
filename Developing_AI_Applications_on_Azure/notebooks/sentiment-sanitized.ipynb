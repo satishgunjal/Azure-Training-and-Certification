{
  "cells": [
    {
      "metadata": {
        "trusted": true
      },
      "cell_type": "code",
      "source": "!pip install --upgrade requests",
      "execution_count": null,
      "outputs": []
    },
    {
      "metadata": {
        "trusted": true
      },
      "cell_type": "code",
      "source": "import requests\nfrom pprint import pprint",
      "execution_count": null,
      "outputs": []
    },
    {
      "metadata": {
        "trusted": true
      },
      "cell_type": "code",
      "source": "sub_key = \"<REPLACE WITH YOUR API SUBSCRIPTION KEY>\"\nassert sub_key",
      "execution_count": null,
      "outputs": []
    },
    {
      "metadata": {
        "trusted": true
      },
      "cell_type": "code",
      "source": "base_url = \"<REPLACE WITH YOUR ENDPOINT>\"\nsent_api_url = base_url + \"/text/analytics/v2.1/sentiment\"",
      "execution_count": null,
      "outputs": []
    },
    {
      "metadata": {
        "trusted": true
      },
      "cell_type": "code",
      "source": "documents = { 'documents': [ {\"id\": \"1\", \"language\": \"en\", \"text\": \"A long long time ago I can still remember how That music used to make me smile And I knew if I had my chance That I could make those people dance And maybe they'd be happy for a while But February made me shiver With every paper I'd deliver Bad news on the doorstep I couldn't take one more step I can't remember if I cried When I read about his widowed bride Something touched me deep inside The day the music died\"} ] }",
      "execution_count": null,
      "outputs": []
    },
    {
      "metadata": {
        "trusted": true
      },
      "cell_type": "code",
      "source": "headers = {\"Ocp-Apim-Subscription-Key\": sub_key}\nresponse = requests.post(sent_api_url, headers=headers,json=documents)\nsentiments = response.json()\npprint(sentiments)\n\n           ",
      "execution_count": null,
      "outputs": []
    },
    {
      "metadata": {
        "trusted": true
      },
      "cell_type": "code",
      "source": "# Let's look at individual lines in the song\ndocuments = { \"documents\": [ \n{\"id\": \"1\", \"language\": \"en\", \"text\": \"A long long time ago I can still remember how That music used to make me smile\"}, \n{\"id\": \"2\", \"language\": \"en\", \"text\" : \"And I knew if I had my chance That I could make those people dance And maybe they'd be happy for a while\"},\n{\"id\": \"3\", \"language\": \"en\", \"text\" : \"But February made me shiver With every paper I'd deliver\"},\n{\"id\": \"4\", \"language\": \"en\", \"text\": \"Bad news on the doorstep I couldn't take one more step\"},\n{\"id\": \"5\", \"language\": \"en\", \"text\": \"I can't remember if I cried When I read about his widowed bride\"},\n{\"id\": \"6\", \"language\": \"en\", \"text\": \"Something touched me deep inside The day the music died\"} ] }\n",
      "execution_count": null,
      "outputs": []
    },
    {
      "metadata": {
        "trusted": true
      },
      "cell_type": "code",
      "source": "headers = {\"Ocp-Apim-Subscription-Key\": sub_key}\nresponse = requests.post(sent_api_url, headers=headers,json=documents)\nsentiments = response.json()\npprint(sentiments)",
      "execution_count": null,
      "outputs": []
    },
    {
      "metadata": {
        "trusted": true
      },
      "cell_type": "code",
      "source": "documents = { \"documents\": [ \n{\"id\": \"1\", \"text\": \"A long long time ago I can still remember how That music used to make me smile\"}, \n{\"id\": \"2\", \"text\": \"Mi gusto el futbol!\"},    \n{\"id\": \"3\", \"text\": \"Parlez vous francais?\"} ]}\n\nlang_api = base_url + \"/text/analytics/v2.1/languages\"\n\nresponse = requests.post(lang_api, headers=headers,json=documents)\nlanguages = response.json()\npprint(languages)\n",
      "execution_count": null,
      "outputs": []
    },
    {
      "metadata": {
        "trusted": true
      },
      "cell_type": "code",
      "source": "documents = { \"documents\": [ \n{\"id\": \"1\", \"text\": \"I would like to travel to Paris.\"}, \n{\"id\": \"2\", \"text\": \"My favorite book is \"\"The hobbit\"\", by J.R.R. Tolkien.\"},    \n{\"id\": \"3\", \"text\": \"Would you like to visit the Statue of Liberty in New York city?\"} ]}\n\nentities_api = base_url + \"/text/analytics/v2.1/entities\"\n\nresponse = requests.post(entities_api, headers=headers,json=documents)\nlanguages = response.json()\npprint(languages)\n",
      "execution_count": null,
      "outputs": []
    },
    {
      "metadata": {
        "trusted": true
      },
      "cell_type": "code",
      "source": "",
      "execution_count": null,
      "outputs": []
    }
  ],
  "metadata": {
    "kernelspec": {
      "name": "python36",
      "display_name": "Python 3.6",
      "language": "python"
    },
    "language_info": {
      "mimetype": "text/x-python",
      "nbconvert_exporter": "python",
      "name": "python",
      "pygments_lexer": "ipython3",
      "version": "3.6.6",
      "file_extension": ".py",
      "codemirror_mode": {
        "version": 3,
        "name": "ipython"
      }
    }
  },
  "nbformat": 4,
  "nbformat_minor": 2
}