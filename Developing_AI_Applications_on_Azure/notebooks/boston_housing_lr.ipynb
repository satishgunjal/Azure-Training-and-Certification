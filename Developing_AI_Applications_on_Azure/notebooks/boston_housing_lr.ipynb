{
  "cells": [
    {
      "metadata": {
        "trusted": true
      },
      "cell_type": "code",
      "source": "#prepare the environment\nimport numpy as np\nimport pandas as pd\nimport matplotlib\nimport matplotlib.pyplot as plt\nimport sklearn\n\nimport sklearn\npd.show_versions()\n#matplotlib.__version__\nsklearn.__version__",
      "execution_count": 1,
      "outputs": [
        {
          "output_type": "stream",
          "text": "/home/nbuser/anaconda3_501/lib/python3.6/site-packages/matplotlib/font_manager.py:229: UserWarning: Matplotlib is building the font cache using fc-list. This may take a moment.\n  'Matplotlib is building the font cache using fc-list. '\n",
          "name": "stderr"
        },
        {
          "output_type": "stream",
          "text": "\nINSTALLED VERSIONS\n------------------\ncommit: None\npython: 3.6.6.final.0\npython-bits: 64\nOS: Linux\nOS-release: 4.14.29-linuxkit\nmachine: x86_64\nprocessor: x86_64\nbyteorder: little\nLC_ALL: None\nLANG: en_US.UTF-8\nLOCALE: en_US.UTF-8\n\npandas: 0.23.4\npytest: 3.8.2\npip: 19.2.2\nsetuptools: 41.1.0\nCython: 0.29.13\nnumpy: 1.16.2\nscipy: 1.1.0\npyarrow: 0.13.0\nxarray: None\nIPython: 7.1.1\nsphinx: 1.8.1\npatsy: 0.5.1\ndateutil: 2.8.0\npytz: 2018.7\nblosc: None\nbottleneck: 1.2.1\ntables: 3.4.4\nnumexpr: 2.6.8\nfeather: None\nmatplotlib: 3.0.0\nopenpyxl: 2.5.8\nxlrd: 1.1.0\nxlwt: 1.3.0\nxlsxwriter: 1.1.1\nlxml: 4.2.5\nbs4: 4.6.3\nhtml5lib: 0.9999999\nsqlalchemy: 1.2.14\npymysql: 0.9.2\npsycopg2: 2.7.5 (dt dec pq3 ext lo64)\njinja2: 2.10\ns3fs: None\nfastparquet: None\npandas_gbq: None\npandas_datareader: None\n",
          "name": "stdout"
        },
        {
          "output_type": "execute_result",
          "execution_count": 1,
          "data": {
            "text/plain": "'0.20.3'"
          },
          "metadata": {}
        }
      ]
    },
    {
      "metadata": {
        "trusted": true
      },
      "cell_type": "code",
      "source": "!ls\n",
      "execution_count": 2,
      "outputs": [
        {
          "output_type": "stream",
          "text": "boston_housing_lr.ipynb  README.md  Samples  wiki_images\r\n",
          "name": "stdout"
        }
      ]
    },
    {
      "metadata": {
        "trusted": true
      },
      "cell_type": "code",
      "source": "#load the data\nfrom sklearn.datasets import load_boston\nboston_dataset = load_boston()\nprint(type(boston_dataset))",
      "execution_count": 3,
      "outputs": [
        {
          "output_type": "stream",
          "text": "<class 'sklearn.utils.Bunch'>\n",
          "name": "stdout"
        }
      ]
    },
    {
      "metadata": {
        "trusted": true
      },
      "cell_type": "code",
      "source": "#explore the data\nprint(boston_dataset.keys())\nprint(boston_dataset['feature_names'])\nprint(boston_dataset['DESCR'])\n",
      "execution_count": 4,
      "outputs": [
        {
          "output_type": "stream",
          "text": "dict_keys(['data', 'target', 'feature_names', 'DESCR', 'filename'])\n['CRIM' 'ZN' 'INDUS' 'CHAS' 'NOX' 'RM' 'AGE' 'DIS' 'RAD' 'TAX' 'PTRATIO'\n 'B' 'LSTAT']\n.. _boston_dataset:\n\nBoston house prices dataset\n---------------------------\n\n**Data Set Characteristics:**  \n\n    :Number of Instances: 506 \n\n    :Number of Attributes: 13 numeric/categorical predictive. Median Value (attribute 14) is usually the target.\n\n    :Attribute Information (in order):\n        - CRIM     per capita crime rate by town\n        - ZN       proportion of residential land zoned for lots over 25,000 sq.ft.\n        - INDUS    proportion of non-retail business acres per town\n        - CHAS     Charles River dummy variable (= 1 if tract bounds river; 0 otherwise)\n        - NOX      nitric oxides concentration (parts per 10 million)\n        - RM       average number of rooms per dwelling\n        - AGE      proportion of owner-occupied units built prior to 1940\n        - DIS      weighted distances to five Boston employment centres\n        - RAD      index of accessibility to radial highways\n        - TAX      full-value property-tax rate per $10,000\n        - PTRATIO  pupil-teacher ratio by town\n        - B        1000(Bk - 0.63)^2 where Bk is the proportion of blacks by town\n        - LSTAT    % lower status of the population\n        - MEDV     Median value of owner-occupied homes in $1000's\n\n    :Missing Attribute Values: None\n\n    :Creator: Harrison, D. and Rubinfeld, D.L.\n\nThis is a copy of UCI ML housing dataset.\nhttps://archive.ics.uci.edu/ml/machine-learning-databases/housing/\n\n\nThis dataset was taken from the StatLib library which is maintained at Carnegie Mellon University.\n\nThe Boston house-price data of Harrison, D. and Rubinfeld, D.L. 'Hedonic\nprices and the demand for clean air', J. Environ. Economics & Management,\nvol.5, 81-102, 1978.   Used in Belsley, Kuh & Welsch, 'Regression diagnostics\n...', Wiley, 1980.   N.B. Various transformations are used in the table on\npages 244-261 of the latter.\n\nThe Boston house-price data has been used in many machine learning papers that address regression\nproblems.   \n     \n.. topic:: References\n\n   - Belsley, Kuh & Welsch, 'Regression diagnostics: Identifying Influential Data and Sources of Collinearity', Wiley, 1980. 244-261.\n   - Quinlan,R. (1993). Combining Instance-Based and Model-Based Learning. In Proceedings on the Tenth International Conference of Machine Learning, 236-243, University of Massachusetts, Amherst. Morgan Kaufmann.\n\n",
          "name": "stdout"
        }
      ]
    },
    {
      "metadata": {},
      "cell_type": "markdown",
      "source": "Let's look at how the number of rooms (RM) affects the price (MEDV)\nIn our linear regression, MEDV will be our Y value.  RM will be our X value.  "
    },
    {
      "metadata": {
        "trusted": true
      },
      "cell_type": "code",
      "source": "#prepare the data\nfrom sklearn.model_selection import train_test_split\nnum_Rooms_Train, num_Rooms_Test, med_price_Train, med_Price_Test = train_test_split(boston_dataset.data[:,5].reshape(-1,1), boston_dataset.target.reshape(-1,1))\nprint(num_Rooms_Train.shape)\nprint(med_price_Train.shape)\nprint(num_Rooms_Test.shape)\nprint(num_Rooms_Test[0])\n",
      "execution_count": 5,
      "outputs": [
        {
          "output_type": "stream",
          "text": "(379, 1)\n(379, 1)\n(127, 1)\n[6.511]\n",
          "name": "stdout"
        }
      ]
    },
    {
      "metadata": {
        "trusted": true
      },
      "cell_type": "code",
      "source": "#implement linear regression model\nfrom sklearn.linear_model import LinearRegression\nprice_room = LinearRegression()\nprint(type(price_room))\nprice_room.fit (num_Rooms_Train,med_price_Train)",
      "execution_count": 6,
      "outputs": [
        {
          "output_type": "stream",
          "text": "<class 'sklearn.linear_model.base.LinearRegression'>\n",
          "name": "stdout"
        },
        {
          "output_type": "execute_result",
          "execution_count": 6,
          "data": {
            "text/plain": "LinearRegression(copy_X=True, fit_intercept=True, n_jobs=None,\n         normalize=False)"
          },
          "metadata": {}
        }
      ]
    },
    {
      "metadata": {
        "trusted": true
      },
      "cell_type": "code",
      "source": "#predict on linear regression model\n\n#print(price_room.predict(num_Rooms_Test[0].reshape(-1,1)))\nprint(price_room.predict(np.array([7.564,3.543,2.450]).reshape(-1,1)))\n#print(num_Rooms_Test[0])\n#print([7.564])\nprint(price_room.predict(num_Rooms_Test[5].reshape(-1,1)))\nprint(price_room.predict(num_Rooms_Test[1:10]))\nmed_price_pred = price_room.predict(num_Rooms_Test)      ",
      "execution_count": 13,
      "outputs": [
        {
          "output_type": "stream",
          "text": "[[ 34.66317666]\n [ -3.50857966]\n [-13.88453829]]\n[[20.71781231]]\n[[30.85644343]\n [28.33127875]\n [21.81901195]\n [14.76563842]\n [20.71781231]\n [19.68306438]\n [20.2051849 ]\n [46.20678662]\n [19.26536797]]\n",
          "name": "stdout"
        }
      ]
    },
    {
      "metadata": {
        "trusted": true
      },
      "cell_type": "code",
      "source": "#Let's graph it:\n#num_Rooms_Train, num_Rooms_Test, med_price_Train, med_Price_Test\n\nimport matplotlib.pyplot as plt\nplt.scatter(num_Rooms_Train, med_price_Train, color = 'green')\nplt.scatter(num_Rooms_Test, med_Price_Test, color = 'red')   \nplt.scatter(num_Rooms_Test, med_price_pred, color = 'blue')  # The predicted temperatures of the same X_test input.\nplt.plot(num_Rooms_Test, price_room.predict(num_Rooms_Test), color = 'gray')\nplt.title('house price based on number of rooms')\nplt.xlabel('number of rooms')\nplt.ylabel('house price')\nplt.show()",
      "execution_count": 11,
      "outputs": [
        {
          "output_type": "display_data",
          "data": {
            "image/png": "[encoded data removed]",
            "text/plain": "<Figure size 432x288 with 1 Axes>"
          },
          "metadata": {
            "needs_background": "light"
          }
        }
      ]
    },
    {
      "metadata": {
        "trusted": true
      },
      "cell_type": "code",
      "source": "",
      "execution_count": null,
      "outputs": []
    }
  ],
  "metadata": {
    "kernelspec": {
      "name": "python36",
      "display_name": "Python 3.6",
      "language": "python"
    },
    "language_info": {
      "mimetype": "text/x-python",
      "nbconvert_exporter": "python",
      "name": "python",
      "pygments_lexer": "ipython3",
      "version": "3.6.6",
      "file_extension": ".py",
      "codemirror_mode": {
        "version": 3,
        "name": "ipython"
      }
    }
  },
  "nbformat": 4,
  "nbformat_minor": 2
}