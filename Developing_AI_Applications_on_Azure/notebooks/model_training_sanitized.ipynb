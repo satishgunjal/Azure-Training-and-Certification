{
  "cells": [
    {
      "metadata": {
        "trusted": true
      },
      "cell_type": "code",
      "source": "#call workspace from config file in another environment\nfrom azureml.core import Workspace\nws = Workspace.from_config(path=\"./.azureml/ws_config.json\")",
      "execution_count": null,
      "outputs": []
    },
    {
      "metadata": {
        "trusted": true
      },
      "cell_type": "code",
      "source": "ws.get_details()",
      "execution_count": null,
      "outputs": []
    },
    {
      "metadata": {
        "trusted": true
      },
      "cell_type": "code",
      "source": "%%writefile my_sklearn_lr.py\n#Remember our linear regression example? Let's train it locally and register it\n\n#prepare the environment\nimport numpy as np\nimport pandas as pd\nimport matplotlib.pyplot as plt\nimport os\n\nimport sklearn\n#load the data\nfrom sklearn.datasets import load_boston\nboston_dataset = load_boston()\n\n\n#prepare the data\nfrom sklearn.model_selection import train_test_split\nnum_Rooms_Train, num_Rooms_Test, med_price_Train, med_Price_Test = train_test_split(boston_dataset.data[:,5].reshape(-1,1), boston_dataset.target.reshape(-1,1))\n\n\n#implement linear regression model\nfrom sklearn.linear_model import LinearRegression\nprice_room = LinearRegression()\nprice_room.fit (num_Rooms_Train,med_price_Train)\n\n# Let's save this model fit out\nfrom sklearn.externals import joblib\nos.makedirs(\"outputs\", exist_ok=True)\njoblib.dump(value=price_room, filename=\"outputs/bh_lr.pkl\")\n",
      "execution_count": null,
      "outputs": []
    },
    {
      "metadata": {
        "trusted": true
      },
      "cell_type": "code",
      "source": "#!ls -al\n!cat my_sklearn_lr.py",
      "execution_count": null,
      "outputs": []
    },
    {
      "metadata": {
        "trusted": true
      },
      "cell_type": "code",
      "source": "#Let's register this model with our workspace\n\nfrom azureml.core.model import Model\n\nmodel = Model.register(workspace=ws, model_path=\"bh_lr.pkl\", model_name=\"boston_housing_lr\")",
      "execution_count": null,
      "outputs": []
    },
    {
      "metadata": {
        "trusted": true
      },
      "cell_type": "code",
      "source": "mymodel = Model(workspace=ws, name=\"boston_housing_lr\")\nmymodel.download(exist_ok=True)",
      "execution_count": null,
      "outputs": []
    },
    {
      "metadata": {
        "trusted": true
      },
      "cell_type": "code",
      "source": "from sklearn.externals import joblib\nlocalmodel = joblib.load(\"bh_lr.pkl\")",
      "execution_count": null,
      "outputs": []
    },
    {
      "metadata": {
        "trusted": true
      },
      "cell_type": "code",
      "source": "!ls -al \n",
      "execution_count": null,
      "outputs": []
    },
    {
      "metadata": {
        "trusted": true
      },
      "cell_type": "code",
      "source": "mymodel.delete()",
      "execution_count": null,
      "outputs": []
    },
    {
      "metadata": {
        "trusted": true
      },
      "cell_type": "code",
      "source": "from azureml.core.runconfig import RunConfiguration\nfrom azureml.core.compute import AmlCompute\nlist_vms = AmlCompute.supported_vmsizes(workspace=ws)",
      "execution_count": null,
      "outputs": []
    },
    {
      "metadata": {
        "trusted": true
      },
      "cell_type": "code",
      "source": "print(list_vms)",
      "execution_count": null,
      "outputs": []
    },
    {
      "metadata": {
        "trusted": true
      },
      "cell_type": "code",
      "source": "compute_config = RunConfiguration()\ncompute_config.target = \"amlcompute\"\ncompute_config.amlcompute.vm_size = \"Standard_DS1_v2\"",
      "execution_count": null,
      "outputs": []
    },
    {
      "metadata": {
        "trusted": true
      },
      "cell_type": "code",
      "source": "from azureml.core.conda_dependencies import CondaDependencies\n\ndependencies = CondaDependencies()\ndependencies.set_python_version(\"3.6.6\")\ndependencies.add_pip_package(\"scikit-learn==0.20.3\")\ndependencies.add_pip_package(\"numpy==1.16.2\")\ndependencies.add_pip_package(\"pandas==0.23.4\")\ndependencies.add_pip_package(\"matplotlib==3.0.0\")\ncompute_config.environment.python.conda_dependencies = dependencies",
      "execution_count": null,
      "outputs": []
    },
    {
      "metadata": {
        "trusted": true
      },
      "cell_type": "code",
      "source": "from azureml.core.experiment import Experiment\nfrom azureml.core import ScriptRunConfig\n\nscript_run_config = ScriptRunConfig(source_directory=\".\",script=\"bh_sklearn_lr.py\", run_config=compute_config)\nexperiment = Experiment(workspace=ws, name=\"lq_simple_model\")\nrun = experiment.submit(config=script_run_config)\nrun.wait_for_completion(show_output=True)",
      "execution_count": null,
      "outputs": []
    },
    {
      "metadata": {
        "trusted": true
      },
      "cell_type": "code",
      "source": "run.get_file_names()",
      "execution_count": null,
      "outputs": []
    },
    {
      "metadata": {
        "trusted": true
      },
      "cell_type": "code",
      "source": "run.download_file(name=\"outputs/bh_lr.pkl\")",
      "execution_count": null,
      "outputs": []
    },
    {
      "metadata": {
        "trusted": true
      },
      "cell_type": "code",
      "source": "!ls",
      "execution_count": null,
      "outputs": []
    },
    {
      "metadata": {
        "trusted": true
      },
      "cell_type": "code",
      "source": "ls -al",
      "execution_count": null,
      "outputs": []
    },
    {
      "metadata": {
        "trusted": true
      },
      "cell_type": "code",
      "source": "from sklearn.externals import joblib\nimport numpy as np\n\nrun_model = joblib.load('bh_lr.pkl')\nrun_model.predict(np.array([7.354]).reshape(-1,1))",
      "execution_count": null,
      "outputs": []
    },
    {
      "metadata": {
        "trusted": true
      },
      "cell_type": "code",
      "source": "from azureml.core.model import Model\n\nmodel = Model.register(workspace=ws, model_path=\"bh_lr.pkl\", model_name=\"lq_simple_train\")",
      "execution_count": null,
      "outputs": []
    },
    {
      "metadata": {
        "trusted": true
      },
      "cell_type": "code",
      "source": "run.register_model(model_name=\"sklearn_bh_lr\", model_path=\"outputs/bh_lr.pkl\")",
      "execution_count": null,
      "outputs": []
    },
    {
      "metadata": {
        "trusted": true
      },
      "cell_type": "code",
      "source": "",
      "execution_count": null,
      "outputs": []
    }
  ],
  "metadata": {
    "kernelspec": {
      "name": "python36",
      "display_name": "Python 3.6",
      "language": "python"
    },
    "language_info": {
      "mimetype": "text/x-python",
      "nbconvert_exporter": "python",
      "name": "python",
      "pygments_lexer": "ipython3",
      "version": "3.6.6",
      "file_extension": ".py",
      "codemirror_mode": {
        "version": 3,
        "name": "ipython"
      }
    }
  },
  "nbformat": 4,
  "nbformat_minor": 2
}