{
  "cells": [
    {
      "metadata": {},
      "cell_type": "markdown",
      "source": "# Python Datatypes\n"
    },
    {
      "metadata": {
        "trusted": true
      },
      "cell_type": "code",
      "source": "#ints\nx = 10 \nprint(type(x))",
      "execution_count": null,
      "outputs": []
    },
    {
      "metadata": {
        "trusted": true
      },
      "cell_type": "code",
      "source": "#floats\nx= 3.14\ntype(x)",
      "execution_count": null,
      "outputs": []
    },
    {
      "metadata": {
        "trusted": true
      },
      "cell_type": "code",
      "source": "#complex numbers have a real part and an imaginary part\nR =complex(3,4)\ntype(R)",
      "execution_count": null,
      "outputs": []
    },
    {
      "metadata": {
        "trusted": true
      },
      "cell_type": "code",
      "source": "#boolean\na=True\nb = False\nprint(type(a))\nprint(type(b))",
      "execution_count": null,
      "outputs": []
    },
    {
      "metadata": {
        "trusted": true
      },
      "cell_type": "code",
      "source": "#string \ns1 = \"Testing 1 2 3\"\ns2 = 'Testing 1 2 3'\nprint(s1 + ' ' + s2)\nprint(type(s1))",
      "execution_count": null,
      "outputs": []
    },
    {
      "metadata": {
        "trusted": true
      },
      "cell_type": "markdown",
      "source": "# Python Collections"
    },
    {
      "metadata": {
        "trusted": true
      },
      "cell_type": "code",
      "source": "#lists are a one dimensional array\nmylist = [1,2,3.0,4,\"hello\"]\nprint(type(mylist))\nprint(mylist)",
      "execution_count": 67,
      "outputs": [
        {
          "output_type": "stream",
          "text": "<class 'list'>\n[1, 2, 3.0, 4, 'hello']\n",
          "name": "stdout"
        }
      ]
    },
    {
      "metadata": {
        "trusted": true
      },
      "cell_type": "code",
      "source": "#accessing individual elements of a list\nprint(mylist[0])\nprint(mylist[2])\nmylist [4]\nprint(type(mylist[4]))\nprint(type(mylist[2]))\nprint(type(mylist[0]))\nprint(mylist[0:2])\nprint(mylist[2:])\n",
      "execution_count": 70,
      "outputs": [
        {
          "output_type": "stream",
          "text": "1\n3.0\n<class 'str'>\n<class 'float'>\n<class 'int'>\n[1, 2]\n[3.0, 4, 'hello']\n",
          "name": "stdout"
        }
      ]
    },
    {
      "metadata": {
        "trusted": true
      },
      "cell_type": "code",
      "source": "#lists are mutable\nmylist.insert(5,'fifth element')  #insert at a specific index\nprint(mylist)\nmylist.remove('hello') #remove the first instance of the stated value\nprint(mylist)\nprint(len(mylist)) # list how many elements there are\nmylist.append('the last hurrah') # append to the end of a list\nprint(mylist)\n#tab complete to see other methods available:\n",
      "execution_count": 71,
      "outputs": [
        {
          "output_type": "stream",
          "text": "[1, 2, 3.0, 4, 'hello', 'fifth element']\n[1, 2, 3.0, 4, 'fifth element']\n5\n[1, 2, 3.0, 4, 'fifth element', 'the last hurrah']\n",
          "name": "stdout"
        }
      ]
    },
    {
      "metadata": {
        "trusted": true
      },
      "cell_type": "code",
      "source": "#tuples are immutable \nmytuple = (1,2,3.0,4,'hello')\nprint(type(mytuple))\nprint(mytuple)\n#indexing works the same way as a list\nprint(mytuple[1:4])\nprint(mytuple[3])\nmytuple[3] = 5  #this will error out\n\n",
      "execution_count": 72,
      "outputs": [
        {
          "output_type": "stream",
          "text": "<class 'tuple'>\n(1, 2, 3.0, 4, 'hello')\n(2, 3.0, 4)\n4\n",
          "name": "stdout"
        },
        {
          "output_type": "error",
          "ename": "TypeError",
          "evalue": "'tuple' object does not support item assignment",
          "traceback": [
            "\u001b[0;31m---------------------------------------------------------------------------\u001b[0m",
            "\u001b[0;31mTypeError\u001b[0m                                 Traceback (most recent call last)",
            "\u001b[0;32m<ipython-input-72-4a180fa902ee>\u001b[0m in \u001b[0;36m<module>\u001b[0;34m\u001b[0m\n\u001b[1;32m      6\u001b[0m \u001b[0mprint\u001b[0m\u001b[0;34m(\u001b[0m\u001b[0mmytuple\u001b[0m\u001b[0;34m[\u001b[0m\u001b[0;36m1\u001b[0m\u001b[0;34m:\u001b[0m\u001b[0;36m4\u001b[0m\u001b[0;34m]\u001b[0m\u001b[0;34m)\u001b[0m\u001b[0;34m\u001b[0m\u001b[0m\n\u001b[1;32m      7\u001b[0m \u001b[0mprint\u001b[0m\u001b[0;34m(\u001b[0m\u001b[0mmytuple\u001b[0m\u001b[0;34m[\u001b[0m\u001b[0;36m3\u001b[0m\u001b[0;34m]\u001b[0m\u001b[0;34m)\u001b[0m\u001b[0;34m\u001b[0m\u001b[0m\n\u001b[0;32m----> 8\u001b[0;31m \u001b[0mmytuple\u001b[0m\u001b[0;34m[\u001b[0m\u001b[0;36m3\u001b[0m\u001b[0;34m]\u001b[0m \u001b[0;34m=\u001b[0m \u001b[0;36m5\u001b[0m  \u001b[0;31m#this will error out\u001b[0m\u001b[0;34m\u001b[0m\u001b[0m\n\u001b[0m\u001b[1;32m      9\u001b[0m \u001b[0;34m\u001b[0m\u001b[0m\n",
            "\u001b[0;31mTypeError\u001b[0m: 'tuple' object does not support item assignment"
          ]
        }
      ]
    },
    {
      "metadata": {
        "trusted": true
      },
      "cell_type": "code",
      "source": "# dictionaries are immutable key-value pairs\nd1 = [{\"name\":\"Bob\",\"age\":40,\"job\":\"project manager\"},{\"name\":\"Joe\",\"age\":35,\"job\":\"data scientist\"}]\nprint(type(d1))\nprint(f\"{d1[0]['name']} is a {d1[0]['job']}.\")\nprint(f\"{d1[1]['name']} is a {d1[1]['job']} who works for {d1[0]['name']}.\")",
      "execution_count": 73,
      "outputs": [
        {
          "output_type": "stream",
          "text": "<class 'list'>\nBob is a project manager.\nJoe is a data scientist who works for Bob.\n",
          "name": "stdout"
        }
      ]
    },
    {
      "metadata": {
        "trusted": true
      },
      "cell_type": "code",
      "source": "",
      "execution_count": null,
      "outputs": []
    }
  ],
  "metadata": {
    "kernelspec": {
      "name": "python36",
      "display_name": "Python 3.6",
      "language": "python"
    },
    "language_info": {
      "mimetype": "text/x-python",
      "nbconvert_exporter": "python",
      "name": "python",
      "pygments_lexer": "ipython3",
      "version": "3.6.6",
      "file_extension": ".py",
      "codemirror_mode": {
        "version": 3,
        "name": "ipython"
      }
    }
  },
  "nbformat": 4,
  "nbformat_minor": 2
}