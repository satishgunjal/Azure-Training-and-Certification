{
  "cells": [
    {
      "metadata": {},
      "cell_type": "markdown",
      "source": "\n\n # Connect to our Worskpace"
    },
    {
      "metadata": {
        "trusted": true
      },
      "cell_type": "code",
      "source": "#Let's connect to our workspace:\nfrom azureml.core import Workspace\nws = Workspace.from_config(path=\".azureml/ws_config.json\")\nws",
      "execution_count": null,
      "outputs": []
    },
    {
      "metadata": {},
      "cell_type": "markdown",
      "source": "# Reference our registered model:"
    },
    {
      "metadata": {
        "trusted": true
      },
      "cell_type": "code",
      "source": "#Let's reference our registered model:\nfrom azureml.core.model import Model\nprint(Model.list(workspace = ws))\nprint(\"______________________________\")\nprint(Model.get_model_path('sklearn_bh_lr'))\nprint(\"______________________________\")\nmodel_path = Model.get_model_path('sklearn_bh_lr')\nmodel = Model(ws,'sklearn_bh_lr')\nprint(model)\nprint(\"______________________________\")\nprint(type(model))\n",
      "execution_count": null,
      "outputs": []
    },
    {
      "metadata": {
        "trusted": true
      },
      "cell_type": "code",
      "source": "!ls -al azureml-models/sklearn_bh_lr/",
      "execution_count": null,
      "outputs": []
    },
    {
      "metadata": {},
      "cell_type": "markdown",
      "source": "# Build an entry script"
    },
    {
      "metadata": {
        "trusted": true
      },
      "cell_type": "code",
      "source": "import json\nimport pickle\nimport numpy as np\nimport pandas as pd\nfrom sklearn.externals import joblib\nfrom azureml.core.model import Model\n\nsample = json.dumps({\"data\": [7.534]})\nprint(sample)\nprint(type(sample))\nprint(json.loads(sample)['data'])\nmy_array = np.array(json.loads(sample)['data'])\nprint(my_array.shape)\nmy2d_array = my_array.reshape(-1,1)\nprint(my2d_array)\nprint(my2d_array.shape)\n##test_samples = bytes(test_samples, encoding='utf8')\n\n#print(Model.list(ws))\nmodel_path = Model.get_model_path(model_name = 'sklearn_bh_lr')\nprint(model_path)\n\nlocal_model = joblib.load(model_path)\nprint(\"local_model: \", local_model.predict(my2d_array))\n\n\ndef run(data):\n    data = np.array(json.loads(data)['data'])\n    result = local_model.predict(data.reshape(-1,1))\n    \n    return result.tolist()\n    \nprint(\"local_model_through_run_function: \", run(sample))  \n",
      "execution_count": null,
      "outputs": []
    },
    {
      "metadata": {
        "trusted": true
      },
      "cell_type": "code",
      "source": "%%writefile score.py\n# Now we build an entry script that uses our model reference:\n\nimport json\nimport pickle\nimport numpy as np\nimport pandas as pd\nfrom sklearn.externals import joblib\nfrom azureml.core.model import Model\n\n\n\ndef init():\n    global model\n    model_path = Model.get_model_path(model_name = 'sklearn_bh_lr')\n    model = joblib.load(model_path)\n    \n    \n    \ndef run(data):\n    data = np.array(json.loads(data)['data'])\n    result = model.predict(data.reshape(-1,1))\n    \n    return result.tolist()\n    \n",
      "execution_count": null,
      "outputs": []
    },
    {
      "metadata": {
        "trusted": true
      },
      "cell_type": "code",
      "source": "",
      "execution_count": null,
      "outputs": []
    },
    {
      "metadata": {},
      "cell_type": "markdown",
      "source": "# Build Dependency list and save it as a yaml file."
    },
    {
      "metadata": {
        "trusted": true
      },
      "cell_type": "code",
      "source": "from azureml.core.conda_dependencies import CondaDependencies\n\ndependencies = CondaDependencies()\ndependencies.set_python_version(\"3.6.6\")\ndependencies.add_pip_package(\"scikit-learn==0.20.3\")\ndependencies.add_pip_package(\"numpy==1.16.2\")\ndependencies.add_pip_package(\"pandas==0.23.4\")\ndependencies.add_pip_package(\"matplotlib==3.0.0\")\n\ndependencies.save_to_file(\".\",\"myenv.yml\")",
      "execution_count": null,
      "outputs": []
    },
    {
      "metadata": {
        "trusted": true
      },
      "cell_type": "code",
      "source": "!ls",
      "execution_count": null,
      "outputs": []
    },
    {
      "metadata": {
        "trusted": true
      },
      "cell_type": "code",
      "source": "",
      "execution_count": null,
      "outputs": []
    },
    {
      "metadata": {
        "trusted": true
      },
      "cell_type": "code",
      "source": "from azureml.core.webservice import AciWebservice, Webservice\nfrom azureml.core.image import ContainerImage",
      "execution_count": null,
      "outputs": []
    },
    {
      "metadata": {},
      "cell_type": "markdown",
      "source": "# Define deplolyment configuration and container image"
    },
    {
      "metadata": {
        "trusted": true
      },
      "cell_type": "code",
      "source": "# Define the configuration of compute: ACI with 1 cpu core and 1 gb of memory.\naci_config = AciWebservice.deploy_configuration(cpu_cores = 1, memory_gb = 1)\naci_config\n\n",
      "execution_count": null,
      "outputs": []
    },
    {
      "metadata": {
        "trusted": true
      },
      "cell_type": "code",
      "source": "# Build a container image\nimage_config = ContainerImage.image_configuration(execution_script = \"score.py\", \n                                   runtime = \"python\", \n                                   conda_file = \"myenv.yml\")\nimage_config\n",
      "execution_count": null,
      "outputs": []
    },
    {
      "metadata": {
        "trusted": true
      },
      "cell_type": "code",
      "source": "# Deploy the web service as an image containing the registered model.\n\nservice = Webservice.deploy_from_model(name = \"housing-predictor\",\n                                        deployment_config = aci_config,\n                                        models = [model],\n                                        image_config = image_config,\n                                        workspace = ws)\n\n# The service deployment can take several minutes: wait for completion.\nservice.wait_for_deployment(show_output = True)",
      "execution_count": null,
      "outputs": []
    },
    {
      "metadata": {
        "trusted": true
      },
      "cell_type": "code",
      "source": "#service = Webservice(ws, 'housing-predictor')",
      "execution_count": null,
      "outputs": []
    },
    {
      "metadata": {
        "trusted": true
      },
      "cell_type": "code",
      "source": "",
      "execution_count": null,
      "outputs": []
    },
    {
      "metadata": {
        "trusted": true
      },
      "cell_type": "code",
      "source": "#print(service.get_logs())",
      "execution_count": null,
      "outputs": []
    },
    {
      "metadata": {
        "trusted": true
      },
      "cell_type": "code",
      "source": "result = service.run(sample)\n#json.loads(sample)['data']\nprint(\"return_from_aci_deployment: \", result)\n#my_model = joblib.load(model_path)\n#data = np.array([1,3,5,7])\n#data\n#data.size\n\n",
      "execution_count": null,
      "outputs": []
    },
    {
      "metadata": {
        "trusted": true
      },
      "cell_type": "code",
      "source": "service.delete()",
      "execution_count": null,
      "outputs": []
    },
    {
      "metadata": {
        "trusted": true
      },
      "cell_type": "code",
      "source": "",
      "execution_count": null,
      "outputs": []
    },
    {
      "metadata": {
        "trusted": true
      },
      "cell_type": "code",
      "source": "",
      "execution_count": null,
      "outputs": []
    },
    {
      "metadata": {
        "trusted": true
      },
      "cell_type": "code",
      "source": "",
      "execution_count": null,
      "outputs": []
    }
  ],
  "metadata": {
    "kernelspec": {
      "name": "python36",
      "display_name": "Python 3.6",
      "language": "python"
    },
    "language_info": {
      "mimetype": "text/x-python",
      "nbconvert_exporter": "python",
      "name": "python",
      "pygments_lexer": "ipython3",
      "version": "3.6.6",
      "file_extension": ".py",
      "codemirror_mode": {
        "version": 3,
        "name": "ipython"
      }
    }
  },
  "nbformat": 4,
  "nbformat_minor": 2
}