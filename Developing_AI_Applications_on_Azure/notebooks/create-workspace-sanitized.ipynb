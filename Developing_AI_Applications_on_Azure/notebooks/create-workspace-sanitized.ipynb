{
  "cells": [
    {
      "metadata": {
        "trusted": true
      },
      "cell_type": "code",
      "source": "#import worskpace constructor and create a workspace\n\nfrom azureml.core import Workspace\nlqai_ws = Workspace.create(name=''<REPLACE_WITH_NAME>'',\n                            subscription_id='<REPLACE_WITH_YOUR_SUBSCRIPTION_KEY>',\n                            resource_group='<REPLACE_WITH_YOUR_RESOURCE_GROUP_OR_CREATE A NEW ONE>',\n                            create_resource_group=False,\n                            location='eastus')",
      "execution_count": null,
      "outputs": []
    },
    {
      "metadata": {
        "trusted": true
      },
      "cell_type": "code",
      "source": "#create a workspace config file to reference you workspace without needing to specify the identifying variables\nlqai_ws.write_config(path=\"./\", file_name=\"ws_config.json\")",
      "execution_count": null,
      "outputs": []
    },
    {
      "metadata": {
        "trusted": true
      },
      "cell_type": "code",
      "source": "!cat .azureml/ws_config.json",
      "execution_count": null,
      "outputs": []
    },
    {
      "metadata": {
        "trusted": true
      },
      "cell_type": "code",
      "source": "",
      "execution_count": null,
      "outputs": []
    },
    {
      "metadata": {
        "trusted": true
      },
      "cell_type": "code",
      "source": "",
      "execution_count": null,
      "outputs": []
    }
  ],
  "metadata": {
    "kernelspec": {
      "name": "python36",
      "display_name": "Python 3.6",
      "language": "python"
    },
    "language_info": {
      "mimetype": "text/x-python",
      "nbconvert_exporter": "python",
      "name": "python",
      "pygments_lexer": "ipython3",
      "version": "3.6.6",
      "file_extension": ".py",
      "codemirror_mode": {
        "version": 3,
        "name": "ipython"
      }
    }
  },
  "nbformat": 4,
  "nbformat_minor": 2
}